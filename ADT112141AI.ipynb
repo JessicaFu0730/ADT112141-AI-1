{
 "cells": [
  {
   "cell_type": "code",
   "execution_count": null,
   "id": "9eade9a6-6bb0-4e98-be4d-9e1dab023bd6",
   "metadata": {},
   "outputs": [],
   "source": [
    "# Exercise 1: 計算1+2+....n\n",
    "sum = 0\n",
    "n = int (input(\"請輸入正整數:\"))\n",
    "for i in range(1, n+1):\n",
    "    sum += i\n",
    "print(\" 1 到 %d 的整數和為 %d\" % (n, sum))\n",
    "\\"
   ]
  },
  {
   "cell_type": "code",
   "execution_count": null,
   "id": "06c7cfb6-b2b5-4261-9600-843cb36f4dc2",
   "metadata": {},
   "outputs": [],
   "source": [
    "# Exercise 2: 99乘法表\n",
    "for i in range (1, 10):\n",
    "    for j in range (1,10):\n",
    "        product = i * j\n",
    "        print(\"%d * %d = %2d \" % (i,j,product), end = \"\")\n",
    "    print()\n"
   ]
  }
 ],
 "metadata": {
  "kernelspec": {
   "display_name": "Python [conda env:base] *",
   "language": "python",
   "name": "conda-base-py"
  },
  "language_info": {
   "codemirror_mode": {
    "name": "ipython",
    "version": 3
   },
   "file_extension": ".py",
   "mimetype": "text/x-python",
   "name": "python",
   "nbconvert_exporter": "python",
   "pygments_lexer": "ipython3",
   "version": "3.13.5"
  }
 },
 "nbformat": 4,
 "nbformat_minor": 5
}
